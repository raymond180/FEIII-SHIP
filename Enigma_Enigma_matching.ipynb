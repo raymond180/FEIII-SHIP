{
 "cells": [
  {
   "cell_type": "code",
   "execution_count": 1,
   "metadata": {},
   "outputs": [],
   "source": [
    "import pandas as pd\n",
    "import numpy as np"
   ]
  },
  {
   "cell_type": "code",
   "execution_count": 2,
   "metadata": {},
   "outputs": [],
   "source": [
    "# Ignore 'trade_update_date', 'run_date', 'vessel_name', 'secondary_notify_party_1','container_number'\n",
    "usecols = ['identifier','shipper_party_name', 'shipper_address','harmonized_number']"
   ]
  },
  {
   "cell_type": "code",
   "execution_count": 3,
   "metadata": {},
   "outputs": [],
   "source": [
    "dtype = {'identifier':str,'shipper_party_name':str,'shipper_address':str,'harmonized_number':str}"
   ]
  },
  {
   "cell_type": "code",
   "execution_count": 4,
   "metadata": {},
   "outputs": [],
   "source": [
    "data = pd.read_csv('export_sample_countries_challenge_with_orgs.csv',usecols=usecols,dtype=dtype)"
   ]
  },
  {
   "cell_type": "code",
   "execution_count": 5,
   "metadata": {},
   "outputs": [
    {
     "data": {
      "text/html": [
       "<div>\n",
       "<style scoped>\n",
       "    .dataframe tbody tr th:only-of-type {\n",
       "        vertical-align: middle;\n",
       "    }\n",
       "\n",
       "    .dataframe tbody tr th {\n",
       "        vertical-align: top;\n",
       "    }\n",
       "\n",
       "    .dataframe thead th {\n",
       "        text-align: right;\n",
       "    }\n",
       "</style>\n",
       "<table border=\"1\" class=\"dataframe\">\n",
       "  <thead>\n",
       "    <tr style=\"text-align: right;\">\n",
       "      <th></th>\n",
       "      <th>identifier</th>\n",
       "      <th>shipper_party_name</th>\n",
       "      <th>shipper_address</th>\n",
       "      <th>harmonized_number</th>\n",
       "    </tr>\n",
       "  </thead>\n",
       "  <tbody>\n",
       "    <tr>\n",
       "      <th>0</th>\n",
       "      <td>2018022434373</td>\n",
       "      <td>NaN</td>\n",
       "      <td>NaN</td>\n",
       "      <td>NaN</td>\n",
       "    </tr>\n",
       "    <tr>\n",
       "      <th>1</th>\n",
       "      <td>2018022631194</td>\n",
       "      <td>PANALPINA AG (X)</td>\n",
       "      <td>EICHSTRASSE 50 8152 GLATTBRUGG SWITZERLAND</td>\n",
       "      <td>NaN</td>\n",
       "    </tr>\n",
       "    <tr>\n",
       "      <th>2</th>\n",
       "      <td>2018022639501</td>\n",
       "      <td>ANHUI TECHNOLOGY IMP AND EXP CO LTD</td>\n",
       "      <td>459 WEST CHANGJIANG ROAD,EHFEI,CHIN A</td>\n",
       "      <td>NaN</td>\n",
       "    </tr>\n",
       "    <tr>\n",
       "      <th>3</th>\n",
       "      <td>2018030234378</td>\n",
       "      <td>GEODIS FREIGHT FORWARDING FRANCE</td>\n",
       "      <td>C/O CARGO CONTAINER LINE 9 RUE FERRER - BP1345...</td>\n",
       "      <td>NaN</td>\n",
       "    </tr>\n",
       "    <tr>\n",
       "      <th>4</th>\n",
       "      <td>2018030257311</td>\n",
       "      <td>BMW BAYRISCHE MOTORENWERKE AG</td>\n",
       "      <td>PETUELRING 130 MUNCHEN BY 80788 GERMANY</td>\n",
       "      <td>NaN</td>\n",
       "    </tr>\n",
       "  </tbody>\n",
       "</table>\n",
       "</div>"
      ],
      "text/plain": [
       "      identifier                   shipper_party_name  \\\n",
       "0  2018022434373                                  NaN   \n",
       "1  2018022631194                     PANALPINA AG (X)   \n",
       "2  2018022639501  ANHUI TECHNOLOGY IMP AND EXP CO LTD   \n",
       "3  2018030234378     GEODIS FREIGHT FORWARDING FRANCE   \n",
       "4  2018030257311        BMW BAYRISCHE MOTORENWERKE AG   \n",
       "\n",
       "                                     shipper_address harmonized_number  \n",
       "0                                                NaN               NaN  \n",
       "1         EICHSTRASSE 50 8152 GLATTBRUGG SWITZERLAND               NaN  \n",
       "2              459 WEST CHANGJIANG ROAD,EHFEI,CHIN A               NaN  \n",
       "3  C/O CARGO CONTAINER LINE 9 RUE FERRER - BP1345...               NaN  \n",
       "4            PETUELRING 130 MUNCHEN BY 80788 GERMANY               NaN  "
      ]
     },
     "execution_count": 5,
     "metadata": {},
     "output_type": "execute_result"
    }
   ],
   "source": [
    "data.head()"
   ]
  },
  {
   "cell_type": "code",
   "execution_count": 13,
   "metadata": {},
   "outputs": [],
   "source": [
    "def create_slurm_job(shipper_size,n_steps):\n",
    "    import math\n",
    "    increment = math.floor(shipper_size/n_steps)\n",
    "    start_from = 1\n",
    "    for i in range(n_steps):\n",
    "        if i == n_steps-1:\n",
    "            print('srun --nodes=1 --ntasks=1 --exclusive python ~/FEIII-SHIP/Data_Code_Matches/Enigma_Enigma_matching.py {} {} {}.pkl.zip &'.format(start_from,shipper_size-1,i))\n",
    "        else:\n",
    "            print('srun --nodes=1 --ntasks=1 --exclusive python ~/FEIII-SHIP/Data_Code_Matches/Enigma_Enigma_matching.py {} {} {}.pkl.zip &'.format(start_from,start_from+increment,i))\n",
    "        start_from = start_from + increment + 1"
   ]
  },
  {
   "cell_type": "code",
   "execution_count": 14,
   "metadata": {},
   "outputs": [
    {
     "name": "stdout",
     "output_type": "stream",
     "text": [
      "srun --nodes=1 --ntasks=1 --exclusive python ~/FEIII-SHIP/Data_Code_Matches/Enigma_Enigma_matching.py 1 63756 0.pkl.zip &\n",
      "srun --nodes=1 --ntasks=1 --exclusive python ~/FEIII-SHIP/Data_Code_Matches/Enigma_Enigma_matching.py 63757 127512 1.pkl.zip &\n",
      "srun --nodes=1 --ntasks=1 --exclusive python ~/FEIII-SHIP/Data_Code_Matches/Enigma_Enigma_matching.py 127513 191268 2.pkl.zip &\n",
      "srun --nodes=1 --ntasks=1 --exclusive python ~/FEIII-SHIP/Data_Code_Matches/Enigma_Enigma_matching.py 191269 255024 3.pkl.zip &\n",
      "srun --nodes=1 --ntasks=1 --exclusive python ~/FEIII-SHIP/Data_Code_Matches/Enigma_Enigma_matching.py 255025 318780 4.pkl.zip &\n",
      "srun --nodes=1 --ntasks=1 --exclusive python ~/FEIII-SHIP/Data_Code_Matches/Enigma_Enigma_matching.py 318781 382536 5.pkl.zip &\n",
      "srun --nodes=1 --ntasks=1 --exclusive python ~/FEIII-SHIP/Data_Code_Matches/Enigma_Enigma_matching.py 382537 446292 6.pkl.zip &\n",
      "srun --nodes=1 --ntasks=1 --exclusive python ~/FEIII-SHIP/Data_Code_Matches/Enigma_Enigma_matching.py 446293 510048 7.pkl.zip &\n",
      "srun --nodes=1 --ntasks=1 --exclusive python ~/FEIII-SHIP/Data_Code_Matches/Enigma_Enigma_matching.py 510049 573804 8.pkl.zip &\n",
      "srun --nodes=1 --ntasks=1 --exclusive python ~/FEIII-SHIP/Data_Code_Matches/Enigma_Enigma_matching.py 573805 637560 9.pkl.zip &\n",
      "srun --nodes=1 --ntasks=1 --exclusive python ~/FEIII-SHIP/Data_Code_Matches/Enigma_Enigma_matching.py 637561 701316 10.pkl.zip &\n",
      "srun --nodes=1 --ntasks=1 --exclusive python ~/FEIII-SHIP/Data_Code_Matches/Enigma_Enigma_matching.py 701317 765072 11.pkl.zip &\n",
      "srun --nodes=1 --ntasks=1 --exclusive python ~/FEIII-SHIP/Data_Code_Matches/Enigma_Enigma_matching.py 765073 828828 12.pkl.zip &\n",
      "srun --nodes=1 --ntasks=1 --exclusive python ~/FEIII-SHIP/Data_Code_Matches/Enigma_Enigma_matching.py 828829 892584 13.pkl.zip &\n",
      "srun --nodes=1 --ntasks=1 --exclusive python ~/FEIII-SHIP/Data_Code_Matches/Enigma_Enigma_matching.py 892585 956340 14.pkl.zip &\n",
      "srun --nodes=1 --ntasks=1 --exclusive python ~/FEIII-SHIP/Data_Code_Matches/Enigma_Enigma_matching.py 956341 1020096 15.pkl.zip &\n",
      "srun --nodes=1 --ntasks=1 --exclusive python ~/FEIII-SHIP/Data_Code_Matches/Enigma_Enigma_matching.py 1020097 1083852 16.pkl.zip &\n",
      "srun --nodes=1 --ntasks=1 --exclusive python ~/FEIII-SHIP/Data_Code_Matches/Enigma_Enigma_matching.py 1083853 1147608 17.pkl.zip &\n",
      "srun --nodes=1 --ntasks=1 --exclusive python ~/FEIII-SHIP/Data_Code_Matches/Enigma_Enigma_matching.py 1147609 1211364 18.pkl.zip &\n",
      "srun --nodes=1 --ntasks=1 --exclusive python ~/FEIII-SHIP/Data_Code_Matches/Enigma_Enigma_matching.py 1211365 1275120 19.pkl.zip &\n",
      "srun --nodes=1 --ntasks=1 --exclusive python ~/FEIII-SHIP/Data_Code_Matches/Enigma_Enigma_matching.py 1275121 1338876 20.pkl.zip &\n",
      "srun --nodes=1 --ntasks=1 --exclusive python ~/FEIII-SHIP/Data_Code_Matches/Enigma_Enigma_matching.py 1338877 1402632 21.pkl.zip &\n",
      "srun --nodes=1 --ntasks=1 --exclusive python ~/FEIII-SHIP/Data_Code_Matches/Enigma_Enigma_matching.py 1402633 1466388 22.pkl.zip &\n",
      "srun --nodes=1 --ntasks=1 --exclusive python ~/FEIII-SHIP/Data_Code_Matches/Enigma_Enigma_matching.py 1466389 1530144 23.pkl.zip &\n",
      "srun --nodes=1 --ntasks=1 --exclusive python ~/FEIII-SHIP/Data_Code_Matches/Enigma_Enigma_matching.py 1530145 1593900 24.pkl.zip &\n",
      "srun --nodes=1 --ntasks=1 --exclusive python ~/FEIII-SHIP/Data_Code_Matches/Enigma_Enigma_matching.py 1593901 1657656 25.pkl.zip &\n",
      "srun --nodes=1 --ntasks=1 --exclusive python ~/FEIII-SHIP/Data_Code_Matches/Enigma_Enigma_matching.py 1657657 1721412 26.pkl.zip &\n",
      "srun --nodes=1 --ntasks=1 --exclusive python ~/FEIII-SHIP/Data_Code_Matches/Enigma_Enigma_matching.py 1721413 1785168 27.pkl.zip &\n",
      "srun --nodes=1 --ntasks=1 --exclusive python ~/FEIII-SHIP/Data_Code_Matches/Enigma_Enigma_matching.py 1785169 1848924 28.pkl.zip &\n",
      "srun --nodes=1 --ntasks=1 --exclusive python ~/FEIII-SHIP/Data_Code_Matches/Enigma_Enigma_matching.py 1848925 1912680 29.pkl.zip &\n",
      "srun --nodes=1 --ntasks=1 --exclusive python ~/FEIII-SHIP/Data_Code_Matches/Enigma_Enigma_matching.py 1912681 1976436 30.pkl.zip &\n",
      "srun --nodes=1 --ntasks=1 --exclusive python ~/FEIII-SHIP/Data_Code_Matches/Enigma_Enigma_matching.py 1976437 2040192 31.pkl.zip &\n",
      "srun --nodes=1 --ntasks=1 --exclusive python ~/FEIII-SHIP/Data_Code_Matches/Enigma_Enigma_matching.py 2040193 2103948 32.pkl.zip &\n",
      "srun --nodes=1 --ntasks=1 --exclusive python ~/FEIII-SHIP/Data_Code_Matches/Enigma_Enigma_matching.py 2103949 2167704 33.pkl.zip &\n",
      "srun --nodes=1 --ntasks=1 --exclusive python ~/FEIII-SHIP/Data_Code_Matches/Enigma_Enigma_matching.py 2167705 2231460 34.pkl.zip &\n",
      "srun --nodes=1 --ntasks=1 --exclusive python ~/FEIII-SHIP/Data_Code_Matches/Enigma_Enigma_matching.py 2231461 2295216 35.pkl.zip &\n",
      "srun --nodes=1 --ntasks=1 --exclusive python ~/FEIII-SHIP/Data_Code_Matches/Enigma_Enigma_matching.py 2295217 2358972 36.pkl.zip &\n",
      "srun --nodes=1 --ntasks=1 --exclusive python ~/FEIII-SHIP/Data_Code_Matches/Enigma_Enigma_matching.py 2358973 2422728 37.pkl.zip &\n",
      "srun --nodes=1 --ntasks=1 --exclusive python ~/FEIII-SHIP/Data_Code_Matches/Enigma_Enigma_matching.py 2422729 2486484 38.pkl.zip &\n",
      "srun --nodes=1 --ntasks=1 --exclusive python ~/FEIII-SHIP/Data_Code_Matches/Enigma_Enigma_matching.py 2486485 2550240 39.pkl.zip &\n",
      "srun --nodes=1 --ntasks=1 --exclusive python ~/FEIII-SHIP/Data_Code_Matches/Enigma_Enigma_matching.py 2550241 2613996 40.pkl.zip &\n",
      "srun --nodes=1 --ntasks=1 --exclusive python ~/FEIII-SHIP/Data_Code_Matches/Enigma_Enigma_matching.py 2613997 2677752 41.pkl.zip &\n",
      "srun --nodes=1 --ntasks=1 --exclusive python ~/FEIII-SHIP/Data_Code_Matches/Enigma_Enigma_matching.py 2677753 2741508 42.pkl.zip &\n",
      "srun --nodes=1 --ntasks=1 --exclusive python ~/FEIII-SHIP/Data_Code_Matches/Enigma_Enigma_matching.py 2741509 2805264 43.pkl.zip &\n",
      "srun --nodes=1 --ntasks=1 --exclusive python ~/FEIII-SHIP/Data_Code_Matches/Enigma_Enigma_matching.py 2805265 2869020 44.pkl.zip &\n",
      "srun --nodes=1 --ntasks=1 --exclusive python ~/FEIII-SHIP/Data_Code_Matches/Enigma_Enigma_matching.py 2869021 2932776 45.pkl.zip &\n",
      "srun --nodes=1 --ntasks=1 --exclusive python ~/FEIII-SHIP/Data_Code_Matches/Enigma_Enigma_matching.py 2932777 2996532 46.pkl.zip &\n",
      "srun --nodes=1 --ntasks=1 --exclusive python ~/FEIII-SHIP/Data_Code_Matches/Enigma_Enigma_matching.py 2996533 3060288 47.pkl.zip &\n",
      "srun --nodes=1 --ntasks=1 --exclusive python ~/FEIII-SHIP/Data_Code_Matches/Enigma_Enigma_matching.py 3060289 3124044 48.pkl.zip &\n",
      "srun --nodes=1 --ntasks=1 --exclusive python ~/FEIII-SHIP/Data_Code_Matches/Enigma_Enigma_matching.py 3124045 3187800 49.pkl.zip &\n",
      "srun --nodes=1 --ntasks=1 --exclusive python ~/FEIII-SHIP/Data_Code_Matches/Enigma_Enigma_matching.py 3187801 3251556 50.pkl.zip &\n",
      "srun --nodes=1 --ntasks=1 --exclusive python ~/FEIII-SHIP/Data_Code_Matches/Enigma_Enigma_matching.py 3251557 3315312 51.pkl.zip &\n",
      "srun --nodes=1 --ntasks=1 --exclusive python ~/FEIII-SHIP/Data_Code_Matches/Enigma_Enigma_matching.py 3315313 3379068 52.pkl.zip &\n",
      "srun --nodes=1 --ntasks=1 --exclusive python ~/FEIII-SHIP/Data_Code_Matches/Enigma_Enigma_matching.py 3379069 3442824 53.pkl.zip &\n",
      "srun --nodes=1 --ntasks=1 --exclusive python ~/FEIII-SHIP/Data_Code_Matches/Enigma_Enigma_matching.py 3442825 3506580 54.pkl.zip &\n",
      "srun --nodes=1 --ntasks=1 --exclusive python ~/FEIII-SHIP/Data_Code_Matches/Enigma_Enigma_matching.py 3506581 3570336 55.pkl.zip &\n",
      "srun --nodes=1 --ntasks=1 --exclusive python ~/FEIII-SHIP/Data_Code_Matches/Enigma_Enigma_matching.py 3570337 3634092 56.pkl.zip &\n",
      "srun --nodes=1 --ntasks=1 --exclusive python ~/FEIII-SHIP/Data_Code_Matches/Enigma_Enigma_matching.py 3634093 3697848 57.pkl.zip &\n",
      "srun --nodes=1 --ntasks=1 --exclusive python ~/FEIII-SHIP/Data_Code_Matches/Enigma_Enigma_matching.py 3697849 3761604 58.pkl.zip &\n",
      "srun --nodes=1 --ntasks=1 --exclusive python ~/FEIII-SHIP/Data_Code_Matches/Enigma_Enigma_matching.py 3761605 3825303 59.pkl.zip &\n"
     ]
    }
   ],
   "source": [
    "create_slurm_job(len(data),60)"
   ]
  },
  {
   "cell_type": "code",
   "execution_count": 26,
   "metadata": {},
   "outputs": [],
   "source": [
    "columns_left = ['identifier_left','shipper_party_name_left','cl_shipper_party_name_left', 'shipper_address_left','harmonized_number_left'] \n",
    "columns_right = ['identifier_right','shipper_party_name_right','cl_shipper_party_name_right', 'shipper_address_right','harmonized_number_right']\n",
    "columns = [i for j in zip(columns_left,columns_right) for i in j]"
   ]
  },
  {
   "cell_type": "code",
   "execution_count": 27,
   "metadata": {},
   "outputs": [
    {
     "data": {
      "text/plain": [
       "['identifier_left',\n",
       " 'identifier_right',\n",
       " 'shipper_party_name_left',\n",
       " 'shipper_party_name_right',\n",
       " 'cl_shipper_party_name_left',\n",
       " 'cl_shipper_party_name_right',\n",
       " 'shipper_address_left',\n",
       " 'shipper_address_right',\n",
       " 'harmonized_number_left',\n",
       " 'harmonized_number_right']"
      ]
     },
     "execution_count": 27,
     "metadata": {},
     "output_type": "execute_result"
    }
   ],
   "source": [
    "columns"
   ]
  },
  {
   "cell_type": "code",
   "execution_count": null,
   "metadata": {},
   "outputs": [],
   "source": []
  }
 ],
 "metadata": {
  "kernelspec": {
   "display_name": "Python 3",
   "language": "python",
   "name": "python3"
  },
  "language_info": {
   "codemirror_mode": {
    "name": "ipython",
    "version": 3
   },
   "file_extension": ".py",
   "mimetype": "text/x-python",
   "name": "python",
   "nbconvert_exporter": "python",
   "pygments_lexer": "ipython3",
   "version": "3.7.3"
  }
 },
 "nbformat": 4,
 "nbformat_minor": 2
}
