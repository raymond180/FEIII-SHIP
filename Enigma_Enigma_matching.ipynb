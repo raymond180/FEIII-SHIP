{
 "cells": [
  {
   "cell_type": "code",
   "execution_count": 1,
   "metadata": {},
   "outputs": [],
   "source": [
    "import pandas as pd\n",
    "import numpy as np\n",
    "\n",
    "import itertools"
   ]
  },
  {
   "cell_type": "code",
   "execution_count": 2,
   "metadata": {},
   "outputs": [],
   "source": [
    "# Ignore 'trade_update_date', 'run_date', 'vessel_name', 'secondary_notify_party_1','container_number'\n",
    "usecols = ['identifier','shipper_party_name', 'shipper_address','harmonized_number']"
   ]
  },
  {
   "cell_type": "code",
   "execution_count": 3,
   "metadata": {},
   "outputs": [],
   "source": [
    "dtype = {'identifier':str,'shipper_party_name':str,'shipper_address':str,'harmonized_number':str}"
   ]
  },
  {
   "cell_type": "code",
   "execution_count": 4,
   "metadata": {},
   "outputs": [],
   "source": [
    "Enigma = pd.read_csv('export_sample_countries_challenge_with_orgs.csv',usecols=usecols,dtype=dtype)"
   ]
  },
  {
   "cell_type": "code",
   "execution_count": 5,
   "metadata": {},
   "outputs": [],
   "source": [
    "Enigma = Enigma.dropna(subset=['shipper_party_name'])\n",
    "Enigma = Enigma.reset_index(drop=True)\n",
    "# Clean Enigma and Camaras and turn them into series\n",
    "replace_char = \",.=_-><\\'\\\":;()!~\"\n",
    "replace_dict = {key:value for (key,value) in zip(replace_char,itertools.repeat(''))}\n",
    "Enigma['cl_shipper_party_name'] = Enigma['shipper_party_name'].str.translate(str.maketrans(replace_dict))"
   ]
  },
  {
   "cell_type": "code",
   "execution_count": 6,
   "metadata": {},
   "outputs": [],
   "source": [
    "def create_slurm_job(shipper_size,n_steps):\n",
    "    import math\n",
    "    increment = math.floor(shipper_size/n_steps)\n",
    "    start_from = 1\n",
    "    for i in range(n_steps):\n",
    "        if i == n_steps-1:\n",
    "            print('srun --nodes=1 --ntasks=1 --exclusive python ~/FEIII-SHIP/Data_Code_Matches/Enigma_Enigma_matching.py {} {} {}.pkl.zip &'.format(start_from,shipper_size-1,i))\n",
    "        else:\n",
    "            print('srun --nodes=1 --ntasks=1 --exclusive python ~/FEIII-SHIP/Data_Code_Matches/Enigma_Enigma_matching.py {} {} {}.pkl.zip &'.format(start_from,start_from+increment,i))\n",
    "        start_from = start_from + increment + 1"
   ]
  },
  {
   "cell_type": "code",
   "execution_count": 7,
   "metadata": {},
   "outputs": [
    {
     "name": "stdout",
     "output_type": "stream",
     "text": [
      "srun --nodes=1 --ntasks=1 --exclusive python ~/FEIII-SHIP/Data_Code_Matches/Enigma_Enigma_matching.py 1 50087 0.pkl.zip &\n",
      "srun --nodes=1 --ntasks=1 --exclusive python ~/FEIII-SHIP/Data_Code_Matches/Enigma_Enigma_matching.py 50088 100174 1.pkl.zip &\n",
      "srun --nodes=1 --ntasks=1 --exclusive python ~/FEIII-SHIP/Data_Code_Matches/Enigma_Enigma_matching.py 100175 150261 2.pkl.zip &\n",
      "srun --nodes=1 --ntasks=1 --exclusive python ~/FEIII-SHIP/Data_Code_Matches/Enigma_Enigma_matching.py 150262 200348 3.pkl.zip &\n",
      "srun --nodes=1 --ntasks=1 --exclusive python ~/FEIII-SHIP/Data_Code_Matches/Enigma_Enigma_matching.py 200349 250435 4.pkl.zip &\n",
      "srun --nodes=1 --ntasks=1 --exclusive python ~/FEIII-SHIP/Data_Code_Matches/Enigma_Enigma_matching.py 250436 300522 5.pkl.zip &\n",
      "srun --nodes=1 --ntasks=1 --exclusive python ~/FEIII-SHIP/Data_Code_Matches/Enigma_Enigma_matching.py 300523 350609 6.pkl.zip &\n",
      "srun --nodes=1 --ntasks=1 --exclusive python ~/FEIII-SHIP/Data_Code_Matches/Enigma_Enigma_matching.py 350610 400696 7.pkl.zip &\n",
      "srun --nodes=1 --ntasks=1 --exclusive python ~/FEIII-SHIP/Data_Code_Matches/Enigma_Enigma_matching.py 400697 450783 8.pkl.zip &\n",
      "srun --nodes=1 --ntasks=1 --exclusive python ~/FEIII-SHIP/Data_Code_Matches/Enigma_Enigma_matching.py 450784 500870 9.pkl.zip &\n",
      "srun --nodes=1 --ntasks=1 --exclusive python ~/FEIII-SHIP/Data_Code_Matches/Enigma_Enigma_matching.py 500871 550957 10.pkl.zip &\n",
      "srun --nodes=1 --ntasks=1 --exclusive python ~/FEIII-SHIP/Data_Code_Matches/Enigma_Enigma_matching.py 550958 601044 11.pkl.zip &\n",
      "srun --nodes=1 --ntasks=1 --exclusive python ~/FEIII-SHIP/Data_Code_Matches/Enigma_Enigma_matching.py 601045 651131 12.pkl.zip &\n",
      "srun --nodes=1 --ntasks=1 --exclusive python ~/FEIII-SHIP/Data_Code_Matches/Enigma_Enigma_matching.py 651132 701218 13.pkl.zip &\n",
      "srun --nodes=1 --ntasks=1 --exclusive python ~/FEIII-SHIP/Data_Code_Matches/Enigma_Enigma_matching.py 701219 751305 14.pkl.zip &\n",
      "srun --nodes=1 --ntasks=1 --exclusive python ~/FEIII-SHIP/Data_Code_Matches/Enigma_Enigma_matching.py 751306 801392 15.pkl.zip &\n",
      "srun --nodes=1 --ntasks=1 --exclusive python ~/FEIII-SHIP/Data_Code_Matches/Enigma_Enigma_matching.py 801393 851479 16.pkl.zip &\n",
      "srun --nodes=1 --ntasks=1 --exclusive python ~/FEIII-SHIP/Data_Code_Matches/Enigma_Enigma_matching.py 851480 901566 17.pkl.zip &\n",
      "srun --nodes=1 --ntasks=1 --exclusive python ~/FEIII-SHIP/Data_Code_Matches/Enigma_Enigma_matching.py 901567 951653 18.pkl.zip &\n",
      "srun --nodes=1 --ntasks=1 --exclusive python ~/FEIII-SHIP/Data_Code_Matches/Enigma_Enigma_matching.py 951654 1001740 19.pkl.zip &\n",
      "srun --nodes=1 --ntasks=1 --exclusive python ~/FEIII-SHIP/Data_Code_Matches/Enigma_Enigma_matching.py 1001741 1051827 20.pkl.zip &\n",
      "srun --nodes=1 --ntasks=1 --exclusive python ~/FEIII-SHIP/Data_Code_Matches/Enigma_Enigma_matching.py 1051828 1101914 21.pkl.zip &\n",
      "srun --nodes=1 --ntasks=1 --exclusive python ~/FEIII-SHIP/Data_Code_Matches/Enigma_Enigma_matching.py 1101915 1152001 22.pkl.zip &\n",
      "srun --nodes=1 --ntasks=1 --exclusive python ~/FEIII-SHIP/Data_Code_Matches/Enigma_Enigma_matching.py 1152002 1202088 23.pkl.zip &\n",
      "srun --nodes=1 --ntasks=1 --exclusive python ~/FEIII-SHIP/Data_Code_Matches/Enigma_Enigma_matching.py 1202089 1252175 24.pkl.zip &\n",
      "srun --nodes=1 --ntasks=1 --exclusive python ~/FEIII-SHIP/Data_Code_Matches/Enigma_Enigma_matching.py 1252176 1302262 25.pkl.zip &\n",
      "srun --nodes=1 --ntasks=1 --exclusive python ~/FEIII-SHIP/Data_Code_Matches/Enigma_Enigma_matching.py 1302263 1352349 26.pkl.zip &\n",
      "srun --nodes=1 --ntasks=1 --exclusive python ~/FEIII-SHIP/Data_Code_Matches/Enigma_Enigma_matching.py 1352350 1402436 27.pkl.zip &\n",
      "srun --nodes=1 --ntasks=1 --exclusive python ~/FEIII-SHIP/Data_Code_Matches/Enigma_Enigma_matching.py 1402437 1452523 28.pkl.zip &\n",
      "srun --nodes=1 --ntasks=1 --exclusive python ~/FEIII-SHIP/Data_Code_Matches/Enigma_Enigma_matching.py 1452524 1502610 29.pkl.zip &\n",
      "srun --nodes=1 --ntasks=1 --exclusive python ~/FEIII-SHIP/Data_Code_Matches/Enigma_Enigma_matching.py 1502611 1552697 30.pkl.zip &\n",
      "srun --nodes=1 --ntasks=1 --exclusive python ~/FEIII-SHIP/Data_Code_Matches/Enigma_Enigma_matching.py 1552698 1602784 31.pkl.zip &\n",
      "srun --nodes=1 --ntasks=1 --exclusive python ~/FEIII-SHIP/Data_Code_Matches/Enigma_Enigma_matching.py 1602785 1652871 32.pkl.zip &\n",
      "srun --nodes=1 --ntasks=1 --exclusive python ~/FEIII-SHIP/Data_Code_Matches/Enigma_Enigma_matching.py 1652872 1702958 33.pkl.zip &\n",
      "srun --nodes=1 --ntasks=1 --exclusive python ~/FEIII-SHIP/Data_Code_Matches/Enigma_Enigma_matching.py 1702959 1753045 34.pkl.zip &\n",
      "srun --nodes=1 --ntasks=1 --exclusive python ~/FEIII-SHIP/Data_Code_Matches/Enigma_Enigma_matching.py 1753046 1803132 35.pkl.zip &\n",
      "srun --nodes=1 --ntasks=1 --exclusive python ~/FEIII-SHIP/Data_Code_Matches/Enigma_Enigma_matching.py 1803133 1853219 36.pkl.zip &\n",
      "srun --nodes=1 --ntasks=1 --exclusive python ~/FEIII-SHIP/Data_Code_Matches/Enigma_Enigma_matching.py 1853220 1903306 37.pkl.zip &\n",
      "srun --nodes=1 --ntasks=1 --exclusive python ~/FEIII-SHIP/Data_Code_Matches/Enigma_Enigma_matching.py 1903307 1953393 38.pkl.zip &\n",
      "srun --nodes=1 --ntasks=1 --exclusive python ~/FEIII-SHIP/Data_Code_Matches/Enigma_Enigma_matching.py 1953394 2003480 39.pkl.zip &\n",
      "srun --nodes=1 --ntasks=1 --exclusive python ~/FEIII-SHIP/Data_Code_Matches/Enigma_Enigma_matching.py 2003481 2053567 40.pkl.zip &\n",
      "srun --nodes=1 --ntasks=1 --exclusive python ~/FEIII-SHIP/Data_Code_Matches/Enigma_Enigma_matching.py 2053568 2103654 41.pkl.zip &\n",
      "srun --nodes=1 --ntasks=1 --exclusive python ~/FEIII-SHIP/Data_Code_Matches/Enigma_Enigma_matching.py 2103655 2153741 42.pkl.zip &\n",
      "srun --nodes=1 --ntasks=1 --exclusive python ~/FEIII-SHIP/Data_Code_Matches/Enigma_Enigma_matching.py 2153742 2203828 43.pkl.zip &\n",
      "srun --nodes=1 --ntasks=1 --exclusive python ~/FEIII-SHIP/Data_Code_Matches/Enigma_Enigma_matching.py 2203829 2253915 44.pkl.zip &\n",
      "srun --nodes=1 --ntasks=1 --exclusive python ~/FEIII-SHIP/Data_Code_Matches/Enigma_Enigma_matching.py 2253916 2304002 45.pkl.zip &\n",
      "srun --nodes=1 --ntasks=1 --exclusive python ~/FEIII-SHIP/Data_Code_Matches/Enigma_Enigma_matching.py 2304003 2354089 46.pkl.zip &\n",
      "srun --nodes=1 --ntasks=1 --exclusive python ~/FEIII-SHIP/Data_Code_Matches/Enigma_Enigma_matching.py 2354090 2404176 47.pkl.zip &\n",
      "srun --nodes=1 --ntasks=1 --exclusive python ~/FEIII-SHIP/Data_Code_Matches/Enigma_Enigma_matching.py 2404177 2454263 48.pkl.zip &\n",
      "srun --nodes=1 --ntasks=1 --exclusive python ~/FEIII-SHIP/Data_Code_Matches/Enigma_Enigma_matching.py 2454264 2504350 49.pkl.zip &\n",
      "srun --nodes=1 --ntasks=1 --exclusive python ~/FEIII-SHIP/Data_Code_Matches/Enigma_Enigma_matching.py 2504351 2554437 50.pkl.zip &\n",
      "srun --nodes=1 --ntasks=1 --exclusive python ~/FEIII-SHIP/Data_Code_Matches/Enigma_Enigma_matching.py 2554438 2604524 51.pkl.zip &\n",
      "srun --nodes=1 --ntasks=1 --exclusive python ~/FEIII-SHIP/Data_Code_Matches/Enigma_Enigma_matching.py 2604525 2654611 52.pkl.zip &\n",
      "srun --nodes=1 --ntasks=1 --exclusive python ~/FEIII-SHIP/Data_Code_Matches/Enigma_Enigma_matching.py 2654612 2704698 53.pkl.zip &\n",
      "srun --nodes=1 --ntasks=1 --exclusive python ~/FEIII-SHIP/Data_Code_Matches/Enigma_Enigma_matching.py 2704699 2754785 54.pkl.zip &\n",
      "srun --nodes=1 --ntasks=1 --exclusive python ~/FEIII-SHIP/Data_Code_Matches/Enigma_Enigma_matching.py 2754786 2804872 55.pkl.zip &\n",
      "srun --nodes=1 --ntasks=1 --exclusive python ~/FEIII-SHIP/Data_Code_Matches/Enigma_Enigma_matching.py 2804873 2854959 56.pkl.zip &\n",
      "srun --nodes=1 --ntasks=1 --exclusive python ~/FEIII-SHIP/Data_Code_Matches/Enigma_Enigma_matching.py 2854960 2905046 57.pkl.zip &\n",
      "srun --nodes=1 --ntasks=1 --exclusive python ~/FEIII-SHIP/Data_Code_Matches/Enigma_Enigma_matching.py 2905047 2955133 58.pkl.zip &\n",
      "srun --nodes=1 --ntasks=1 --exclusive python ~/FEIII-SHIP/Data_Code_Matches/Enigma_Enigma_matching.py 2955134 3005200 59.pkl.zip &\n"
     ]
    }
   ],
   "source": [
    "create_slurm_job(len(Enigma),60)"
   ]
  },
  {
   "cell_type": "code",
   "execution_count": 8,
   "metadata": {},
   "outputs": [],
   "source": [
    "columns_left = ['identifier_left','shipper_party_name_left','cl_shipper_party_name_left', 'shipper_address_left','harmonized_number_left'] \n",
    "columns_right = ['identifier_right','shipper_party_name_right','cl_shipper_party_name_right', 'shipper_address_right','harmonized_number_right']\n",
    "columns = [i for j in zip(columns_left,columns_right) for i in j]"
   ]
  },
  {
   "cell_type": "code",
   "execution_count": 9,
   "metadata": {},
   "outputs": [
    {
     "data": {
      "text/plain": [
       "['identifier_left',\n",
       " 'identifier_right',\n",
       " 'shipper_party_name_left',\n",
       " 'shipper_party_name_right',\n",
       " 'cl_shipper_party_name_left',\n",
       " 'cl_shipper_party_name_right',\n",
       " 'shipper_address_left',\n",
       " 'shipper_address_right',\n",
       " 'harmonized_number_left',\n",
       " 'harmonized_number_right']"
      ]
     },
     "execution_count": 9,
     "metadata": {},
     "output_type": "execute_result"
    }
   ],
   "source": [
    "columns"
   ]
  },
  {
   "cell_type": "code",
   "execution_count": null,
   "metadata": {},
   "outputs": [],
   "source": []
  }
 ],
 "metadata": {
  "kernelspec": {
   "display_name": "Python 3",
   "language": "python",
   "name": "python3"
  },
  "language_info": {
   "codemirror_mode": {
    "name": "ipython",
    "version": 3
   },
   "file_extension": ".py",
   "mimetype": "text/x-python",
   "name": "python",
   "nbconvert_exporter": "python",
   "pygments_lexer": "ipython3",
   "version": "3.7.3"
  }
 },
 "nbformat": 4,
 "nbformat_minor": 2
}
