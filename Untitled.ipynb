{
 "cells": [
  {
   "cell_type": "code",
   "execution_count": 1,
   "metadata": {},
   "outputs": [],
   "source": [
    "import pandas as pd"
   ]
  },
  {
   "cell_type": "code",
   "execution_count": 2,
   "metadata": {},
   "outputs": [
    {
     "name": "stderr",
     "output_type": "stream",
     "text": [
      "/home/raymond/anaconda3/lib/python3.7/site-packages/IPython/core/interactiveshell.py:3049: DtypeWarning: Columns (27) have mixed types. Specify dtype option on import or set low_memory=False.\n",
      "  interactivity=interactivity, compiler=compiler, result=result)\n"
     ]
    }
   ],
   "source": [
    "data = pd.read_csv('BofL6country.zip',compression='zip')"
   ]
  },
  {
   "cell_type": "code",
   "execution_count": 4,
   "metadata": {
    "scrolled": false
   },
   "outputs": [
    {
     "data": {
      "text/plain": [
       "0     2.018022e+12\n",
       "1     2.018022e+12\n",
       "2     2.018023e+12\n",
       "3     2.018023e+12\n",
       "4     2.018030e+12\n",
       "5     2.018030e+12\n",
       "6     2.018030e+12\n",
       "7     2.018030e+12\n",
       "8     2.018030e+12\n",
       "9     2.018030e+12\n",
       "10    2.018030e+12\n",
       "11    2.018030e+12\n",
       "12    2.018030e+12\n",
       "13    2.018030e+12\n",
       "14    2.018030e+12\n",
       "15    2.018030e+12\n",
       "16    2.018030e+12\n",
       "17    2.018030e+12\n",
       "18    2.018030e+12\n",
       "19    2.018030e+12\n",
       "20    2.018030e+12\n",
       "21    2.018030e+12\n",
       "22    2.018030e+12\n",
       "23    2.018030e+12\n",
       "24    2.018030e+12\n",
       "25    2.018030e+12\n",
       "26    2.018030e+12\n",
       "27    2.018030e+12\n",
       "28    2.018030e+12\n",
       "29    2.018030e+12\n",
       "30    2.018030e+12\n",
       "31    2.018030e+12\n",
       "32    2.018030e+12\n",
       "33    2.018030e+12\n",
       "34    2.018030e+12\n",
       "35    2.018030e+12\n",
       "36    2.018030e+12\n",
       "37    2.018030e+12\n",
       "38    2.018030e+12\n",
       "39    2.018030e+12\n",
       "40    2.018030e+12\n",
       "41    2.018030e+12\n",
       "42    2.018030e+12\n",
       "43    2.018030e+12\n",
       "44    2.018030e+12\n",
       "45    2.018030e+12\n",
       "46    2.018030e+12\n",
       "47    2.018030e+12\n",
       "48    2.018030e+12\n",
       "49    2.018030e+12\n",
       "Name: identifier, dtype: float64"
      ]
     },
     "execution_count": 4,
     "metadata": {},
     "output_type": "execute_result"
    }
   ],
   "source": [
    "data['identifier'].head(50)"
   ]
  },
  {
   "cell_type": "code",
   "execution_count": null,
   "metadata": {},
   "outputs": [],
   "source": []
  }
 ],
 "metadata": {
  "kernelspec": {
   "display_name": "Python 3",
   "language": "python",
   "name": "python3"
  },
  "language_info": {
   "codemirror_mode": {
    "name": "ipython",
    "version": 3
   },
   "file_extension": ".py",
   "mimetype": "text/x-python",
   "name": "python",
   "nbconvert_exporter": "python",
   "pygments_lexer": "ipython3",
   "version": "3.7.3"
  }
 },
 "nbformat": 4,
 "nbformat_minor": 2
}
