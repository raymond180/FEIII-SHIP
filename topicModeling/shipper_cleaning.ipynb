{
 "cells": [
  {
   "cell_type": "code",
   "execution_count": 1,
   "metadata": {},
   "outputs": [
    {
     "name": "stderr",
     "output_type": "stream",
     "text": [
      "/home/raymond/anaconda3/envs/topicModeling/lib/python3.7/site-packages/smart_open/ssh.py:34: UserWarning: paramiko missing, opening SSH/SCP/SFTP paths will be disabled.  `pip install paramiko` to suppress\n",
      "  warnings.warn('paramiko missing, opening SSH/SCP/SFTP paths will be disabled.  `pip install paramiko` to suppress')\n"
     ]
    }
   ],
   "source": [
    "import pandas as pd\n",
    "import numpy as np\n",
    "\n",
    "from compute_lda import *"
   ]
  },
  {
   "cell_type": "markdown",
   "metadata": {},
   "source": [
    "### Entitiy Matching"
   ]
  },
  {
   "cell_type": "code",
   "execution_count": 2,
   "metadata": {},
   "outputs": [],
   "source": [
    "shipper_matching = pd.read_csv('../shipper_matching/Enigma_Enigma_6countries.csv')"
   ]
  },
  {
   "cell_type": "code",
   "execution_count": 3,
   "metadata": {},
   "outputs": [
    {
     "data": {
      "text/plain": [
       "(425010, 12)"
      ]
     },
     "execution_count": 3,
     "metadata": {},
     "output_type": "execute_result"
    }
   ],
   "source": [
    "shipper_matching.shape"
   ]
  },
  {
   "cell_type": "code",
   "execution_count": 4,
   "metadata": {},
   "outputs": [
    {
     "data": {
      "text/plain": [
       "(33916, 12)"
      ]
     },
     "execution_count": 4,
     "metadata": {},
     "output_type": "execute_result"
    }
   ],
   "source": [
    "shipper_matching[(shipper_matching['name_score']>0.9) & (shipper_matching['address_score']>0.6)].shape"
   ]
  },
  {
   "cell_type": "code",
   "execution_count": 5,
   "metadata": {},
   "outputs": [],
   "source": [
    "shipper_matching  = shipper_matching[(shipper_matching['name_score']>0.9) & (shipper_matching['address_score']>0.6)]"
   ]
  },
  {
   "cell_type": "code",
   "execution_count": 6,
   "metadata": {},
   "outputs": [],
   "source": [
    "def shipper_set(col1,col2):\n",
    "    return {col1,col2}"
   ]
  },
  {
   "cell_type": "code",
   "execution_count": 7,
   "metadata": {},
   "outputs": [],
   "source": [
    "shipper_set_vectorize = np.vectorize(shipper_set)\n",
    "shipper_matching['cl_shipper_set'] = shipper_set_vectorize(shipper_matching['cl_shipper_party_name_left'],shipper_matching['cl_shipper_party_name_right']) "
   ]
  },
  {
   "cell_type": "code",
   "execution_count": 8,
   "metadata": {},
   "outputs": [
    {
     "data": {
      "text/plain": [
       "(33916,)"
      ]
     },
     "execution_count": 8,
     "metadata": {},
     "output_type": "execute_result"
    }
   ],
   "source": [
    "shipper_matching['cl_shipper_set'].shape"
   ]
  },
  {
   "cell_type": "raw",
   "metadata": {},
   "source": [
    "shipper_matching['cl_shipper_left_index'] = shipper_matching['cl_shipper_party_name_left'].astype('category').cat.codes\n",
    "shipper_matching['cl_shipper_right_index'] = shipper_matching['cl_shipper_party_name_right'].astype('category').cat.codes"
   ]
  },
  {
   "cell_type": "code",
   "execution_count": 9,
   "metadata": {},
   "outputs": [],
   "source": [
    "le = preprocessing.LabelEncoder()\n",
    "le.fit(shipper_matching['cl_shipper_party_name_left'])\n",
    "shipper_matching['cl_shipper_left_index'] = le.transform(shipper_matching['cl_shipper_party_name_left'].values)\n",
    "shipper_matching['cl_shipper_riht_index'] = le.transform(shipper_matching['cl_shipper_party_name_right'].values)\n",
    "#inverse_transform = le.inverse_transform(shipper_matching['cl_shipper_party_name_right'].values)"
   ]
  },
  {
   "cell_type": "code",
   "execution_count": 12,
   "metadata": {},
   "outputs": [
    {
     "data": {
      "text/html": [
       "<div>\n",
       "<style scoped>\n",
       "    .dataframe tbody tr th:only-of-type {\n",
       "        vertical-align: middle;\n",
       "    }\n",
       "\n",
       "    .dataframe tbody tr th {\n",
       "        vertical-align: top;\n",
       "    }\n",
       "\n",
       "    .dataframe thead th {\n",
       "        text-align: right;\n",
       "    }\n",
       "</style>\n",
       "<table border=\"1\" class=\"dataframe\">\n",
       "  <thead>\n",
       "    <tr style=\"text-align: right;\">\n",
       "      <th></th>\n",
       "      <th>name_score</th>\n",
       "      <th>address_score</th>\n",
       "      <th>identifier_left</th>\n",
       "      <th>identifier_right</th>\n",
       "      <th>shipper_party_name_left</th>\n",
       "      <th>shipper_party_name_right</th>\n",
       "      <th>cl_shipper_party_name_left</th>\n",
       "      <th>cl_shipper_party_name_right</th>\n",
       "      <th>shipper_address_left</th>\n",
       "      <th>shipper_address_right</th>\n",
       "      <th>harmonized_number_left</th>\n",
       "      <th>harmonized_number_right</th>\n",
       "      <th>cl_shipper_set</th>\n",
       "      <th>cl_shipper_left_index</th>\n",
       "      <th>cl_shipper_riht_index</th>\n",
       "    </tr>\n",
       "  </thead>\n",
       "  <tbody>\n",
       "    <tr>\n",
       "      <th>9</th>\n",
       "      <td>0.923077</td>\n",
       "      <td>0.632911</td>\n",
       "      <td>2.018031e+10</td>\n",
       "      <td>2.020000e+12</td>\n",
       "      <td>&amp;TRADITION A/S</td>\n",
       "      <td>TRADITION AS</td>\n",
       "      <td>&amp;TRADITION A/S</td>\n",
       "      <td>TRADITION AS</td>\n",
       "      <td>TRANGRAVSVEJ 24    COPENHAGEN  K  1436 DK</td>\n",
       "      <td>KRONPRINSESSEGADE 4 COPENHAGEN 1306 DK</td>\n",
       "      <td>NaN</td>\n",
       "      <td>NaN</td>\n",
       "      <td>{&amp;TRADITION A/S, TRADITION AS}</td>\n",
       "      <td>0</td>\n",
       "      <td>20057</td>\n",
       "    </tr>\n",
       "    <tr>\n",
       "      <th>10</th>\n",
       "      <td>0.961538</td>\n",
       "      <td>0.905660</td>\n",
       "      <td>2.018042e+12</td>\n",
       "      <td>2.018022e+12</td>\n",
       "      <td>+ CARGA-TRNSITOS, COMERCIO E</td>\n",
       "      <td>+CARGA-TRANSITOS, COMERCIO E</td>\n",
       "      <td>+ CARGATRNSITOS COMERCIO E</td>\n",
       "      <td>+CARGATRANSITOS COMERCIO E</td>\n",
       "      <td>SERVICOS, LDA. PRACA DUQUE DA TERCEIRA, N24 -3...</td>\n",
       "      <td>SERVICOS, LDA PRACA DUQUE DA TERCEIRA, N-24 -3...</td>\n",
       "      <td>NaN</td>\n",
       "      <td>680292.0</td>\n",
       "      <td>{+ CARGATRNSITOS COMERCIO E, +CARGATRANSITOS C...</td>\n",
       "      <td>1</td>\n",
       "      <td>2</td>\n",
       "    </tr>\n",
       "    <tr>\n",
       "      <th>12</th>\n",
       "      <td>0.909091</td>\n",
       "      <td>0.716763</td>\n",
       "      <td>2.018040e+12</td>\n",
       "      <td>2.018040e+12</td>\n",
       "      <td>1) CERELIA BELGIUM BVBA /</td>\n",
       "      <td>CERELIA BELGIUM BVBA</td>\n",
       "      <td>1 CERELIA BELGIUM BVBA /</td>\n",
       "      <td>CERELIA BELGIUM BVBA</td>\n",
       "      <td>ONDERNEMINGENSTRAAT 5A 8630 VE 4520 VINALMONT ...</td>\n",
       "      <td>ONDERNEMINGENSTRAAT 5A RUE DE VILLERS 36 4520 ...</td>\n",
       "      <td>190532.0</td>\n",
       "      <td>190532.0</td>\n",
       "      <td>{CERELIA BELGIUM BVBA, 1 CERELIA BELGIUM BVBA /}</td>\n",
       "      <td>4</td>\n",
       "      <td>3441</td>\n",
       "    </tr>\n",
       "    <tr>\n",
       "      <th>13</th>\n",
       "      <td>0.983607</td>\n",
       "      <td>0.752475</td>\n",
       "      <td>2.018010e+11</td>\n",
       "      <td>2.020000e+12</td>\n",
       "      <td>1010 PRINTING INTERNATIONAL LTD</td>\n",
       "      <td>1010 PRINTING INTERNATIONA LTD</td>\n",
       "      <td>1010 PRINTING INTERNATIONAL LTD</td>\n",
       "      <td>1010 PRINTING INTERNATIONA LTD</td>\n",
       "      <td>26/F, 625 KING'S ROAD NORTH POINT   HONG KONG ...</td>\n",
       "      <td>26/F, 625 KING'S ROAD  HONG KONG  NORTH POINT,...</td>\n",
       "      <td>NaN</td>\n",
       "      <td>NaN</td>\n",
       "      <td>{1010 PRINTING INTERNATIONA LTD, 1010 PRINTING...</td>\n",
       "      <td>6</td>\n",
       "      <td>5</td>\n",
       "    </tr>\n",
       "    <tr>\n",
       "      <th>15</th>\n",
       "      <td>0.923077</td>\n",
       "      <td>0.839506</td>\n",
       "      <td>2.018020e+12</td>\n",
       "      <td>2.018040e+12</td>\n",
       "      <td>-18  SAS</td>\n",
       "      <td>-18 SAS</td>\n",
       "      <td>18  SAS</td>\n",
       "      <td>18 SAS</td>\n",
       "      <td>13 CHEMIN DES CHAUDRONNIERS F-94310 ORLY</td>\n",
       "      <td>13 CHEMIN DES CHAUDRONNIERS ORLY 94130 FR</td>\n",
       "      <td>NaN</td>\n",
       "      <td>NaN</td>\n",
       "      <td>{18 SAS, 18  SAS}</td>\n",
       "      <td>7</td>\n",
       "      <td>8</td>\n",
       "    </tr>\n",
       "  </tbody>\n",
       "</table>\n",
       "</div>"
      ],
      "text/plain": [
       "    name_score  address_score  identifier_left  identifier_right  \\\n",
       "9     0.923077       0.632911     2.018031e+10      2.020000e+12   \n",
       "10    0.961538       0.905660     2.018042e+12      2.018022e+12   \n",
       "12    0.909091       0.716763     2.018040e+12      2.018040e+12   \n",
       "13    0.983607       0.752475     2.018010e+11      2.020000e+12   \n",
       "15    0.923077       0.839506     2.018020e+12      2.018040e+12   \n",
       "\n",
       "            shipper_party_name_left        shipper_party_name_right  \\\n",
       "9                    &TRADITION A/S                    TRADITION AS   \n",
       "10     + CARGA-TRNSITOS, COMERCIO E    +CARGA-TRANSITOS, COMERCIO E   \n",
       "12        1) CERELIA BELGIUM BVBA /            CERELIA BELGIUM BVBA   \n",
       "13  1010 PRINTING INTERNATIONAL LTD  1010 PRINTING INTERNATIONA LTD   \n",
       "15                         -18  SAS                         -18 SAS   \n",
       "\n",
       "         cl_shipper_party_name_left     cl_shipper_party_name_right  \\\n",
       "9                    &TRADITION A/S                    TRADITION AS   \n",
       "10       + CARGATRNSITOS COMERCIO E      +CARGATRANSITOS COMERCIO E   \n",
       "12         1 CERELIA BELGIUM BVBA /            CERELIA BELGIUM BVBA   \n",
       "13  1010 PRINTING INTERNATIONAL LTD  1010 PRINTING INTERNATIONA LTD   \n",
       "15                          18  SAS                          18 SAS   \n",
       "\n",
       "                                 shipper_address_left  \\\n",
       "9           TRANGRAVSVEJ 24    COPENHAGEN  K  1436 DK   \n",
       "10  SERVICOS, LDA. PRACA DUQUE DA TERCEIRA, N24 -3...   \n",
       "12  ONDERNEMINGENSTRAAT 5A 8630 VE 4520 VINALMONT ...   \n",
       "13  26/F, 625 KING'S ROAD NORTH POINT   HONG KONG ...   \n",
       "15           13 CHEMIN DES CHAUDRONNIERS F-94310 ORLY   \n",
       "\n",
       "                                shipper_address_right  harmonized_number_left  \\\n",
       "9              KRONPRINSESSEGADE 4 COPENHAGEN 1306 DK                     NaN   \n",
       "10  SERVICOS, LDA PRACA DUQUE DA TERCEIRA, N-24 -3...                     NaN   \n",
       "12  ONDERNEMINGENSTRAAT 5A RUE DE VILLERS 36 4520 ...                190532.0   \n",
       "13  26/F, 625 KING'S ROAD  HONG KONG  NORTH POINT,...                     NaN   \n",
       "15          13 CHEMIN DES CHAUDRONNIERS ORLY 94130 FR                     NaN   \n",
       "\n",
       "    harmonized_number_right  \\\n",
       "9                       NaN   \n",
       "10                 680292.0   \n",
       "12                 190532.0   \n",
       "13                      NaN   \n",
       "15                      NaN   \n",
       "\n",
       "                                       cl_shipper_set  cl_shipper_left_index  \\\n",
       "9                      {&TRADITION A/S, TRADITION AS}                      0   \n",
       "10  {+ CARGATRNSITOS COMERCIO E, +CARGATRANSITOS C...                      1   \n",
       "12   {CERELIA BELGIUM BVBA, 1 CERELIA BELGIUM BVBA /}                      4   \n",
       "13  {1010 PRINTING INTERNATIONA LTD, 1010 PRINTING...                      6   \n",
       "15                                  {18 SAS, 18  SAS}                      7   \n",
       "\n",
       "    cl_shipper_riht_index  \n",
       "9                   20057  \n",
       "10                      2  \n",
       "12                   3441  \n",
       "13                      5  \n",
       "15                      8  "
      ]
     },
     "execution_count": 12,
     "metadata": {},
     "output_type": "execute_result"
    }
   ],
   "source": [
    "shipper_matching.head()"
   ]
  },
  {
   "cell_type": "code",
   "execution_count": null,
   "metadata": {},
   "outputs": [],
   "source": []
  },
  {
   "cell_type": "markdown",
   "metadata": {},
   "source": [
    "### Logistics Company"
   ]
  },
  {
   "cell_type": "code",
   "execution_count": 13,
   "metadata": {},
   "outputs": [],
   "source": [
    "data = read_data()"
   ]
  },
  {
   "cell_type": "code",
   "execution_count": 15,
   "metadata": {},
   "outputs": [
    {
     "data": {
      "text/plain": [
       "Index(['identifier', 'port_of_unlading', 'estimated_arrival_date',\n",
       "       'foreign_port_of_lading', 'record_status_indicator', 'place_of_receipt',\n",
       "       'port_of_destination', 'foreign_port_of_destination',\n",
       "       'actual_arrival_date', 'consignee_name', 'consignee_address',\n",
       "       'consignee_contact_name', 'consignee_comm_number_qualifier',\n",
       "       'consignee_comm_number', 'shipper_party_name', 'shipper_address',\n",
       "       'shipper_contact_name', 'shipper_comm_number_qualifier',\n",
       "       'shipper_comm_number', 'description_sequence_number', 'piece_count',\n",
       "       'description_text', 'harmonized_number', 'harmonized_value',\n",
       "       'harmonized_weight', 'harmonized_weight_unit'],\n",
       "      dtype='object')"
      ]
     },
     "execution_count": 15,
     "metadata": {},
     "output_type": "execute_result"
    }
   ],
   "source": [
    "data.columns"
   ]
  },
  {
   "cell_type": "code",
   "execution_count": 23,
   "metadata": {},
   "outputs": [
    {
     "data": {
      "text/plain": [
       "(3825317, 26)"
      ]
     },
     "execution_count": 23,
     "metadata": {},
     "output_type": "execute_result"
    }
   ],
   "source": [
    "data.shape"
   ]
  },
  {
   "cell_type": "code",
   "execution_count": 28,
   "metadata": {},
   "outputs": [
    {
     "data": {
      "text/plain": [
       "3005212"
      ]
     },
     "execution_count": 28,
     "metadata": {},
     "output_type": "execute_result"
    }
   ],
   "source": [
    "data['shipper_party_name'].count()"
   ]
  },
  {
   "cell_type": "code",
   "execution_count": 31,
   "metadata": {},
   "outputs": [
    {
     "data": {
      "text/plain": [
       "322561"
      ]
     },
     "execution_count": 31,
     "metadata": {},
     "output_type": "execute_result"
    }
   ],
   "source": [
    "data['shipper_party_name'].str.contains(pat='logistic|logistics|forward|dhl|transport|shipping',case=False).sum()"
   ]
  },
  {
   "cell_type": "code",
   "execution_count": null,
   "metadata": {},
   "outputs": [],
   "source": []
  }
 ],
 "metadata": {
  "kernelspec": {
   "display_name": "Python 3",
   "language": "python",
   "name": "python3"
  },
  "language_info": {
   "codemirror_mode": {
    "name": "ipython",
    "version": 3
   },
   "file_extension": ".py",
   "mimetype": "text/x-python",
   "name": "python",
   "nbconvert_exporter": "python",
   "pygments_lexer": "ipython3",
   "version": "3.7.3"
  }
 },
 "nbformat": 4,
 "nbformat_minor": 2
}
