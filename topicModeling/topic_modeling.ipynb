{
 "cells": [
  {
   "cell_type": "code",
   "execution_count": 1,
   "metadata": {},
   "outputs": [
    {
     "name": "stderr",
     "output_type": "stream",
     "text": [
      "/home/raymond/anaconda3/envs/topicModeling/lib/python3.7/site-packages/smart_open/ssh.py:34: UserWarning: paramiko missing, opening SSH/SCP/SFTP paths will be disabled.  `pip install paramiko` to suppress\n",
      "  warnings.warn('paramiko missing, opening SSH/SCP/SFTP paths will be disabled.  `pip install paramiko` to suppress')\n"
     ]
    }
   ],
   "source": [
    "from compute_lda import *"
   ]
  },
  {
   "cell_type": "markdown",
   "metadata": {},
   "source": [
    "### Some functions"
   ]
  },
  {
   "cell_type": "code",
   "execution_count": 2,
   "metadata": {},
   "outputs": [],
   "source": [
    "def count_country(df,name):\n",
    "    cols = ['port_of_unlading','foreign_port_of_lading','place_of_receipt'\n",
    "            ,'port_of_destination','foreign_port_of_destination'\n",
    "           ,'consignee_address','shipper_address']\n",
    "    print('total rows is {}'.format(data.shape[0]))\n",
    "    for i,col in enumerate(cols):\n",
    "        temp_col = data[col].str.contains(name,case=False,regex=False)\n",
    "        print('{} contains {} of rows of {}'.format(col,temp_col.sum(),name))\n",
    "        if i==0:\n",
    "            sum_col = temp_col.copy()\n",
    "        else:\n",
    "            sum_col = sum_col.add(temp_col,fill_value=0)\n",
    "    print('{} of rows are {}'.format(sum_col[sum_col>0].sum(),name))"
   ]
  },
  {
   "cell_type": "code",
   "execution_count": 3,
   "metadata": {},
   "outputs": [],
   "source": [
    "six_countries = ['Germany','Belgium', 'Vietnam' ,'Spain', 'United Kingdom','France']"
   ]
  },
  {
   "cell_type": "markdown",
   "metadata": {},
   "source": [
    "### Data Processing"
   ]
  },
  {
   "cell_type": "code",
   "execution_count": 4,
   "metadata": {},
   "outputs": [],
   "source": [
    "data = read_data()"
   ]
  },
  {
   "cell_type": "code",
   "execution_count": 5,
   "metadata": {},
   "outputs": [
    {
     "data": {
      "text/plain": [
       "(3825317, 26)"
      ]
     },
     "execution_count": 5,
     "metadata": {},
     "output_type": "execute_result"
    }
   ],
   "source": [
    "data.shape"
   ]
  },
  {
   "cell_type": "raw",
   "metadata": {},
   "source": [
    "for country in six_countries:\n",
    "    count_country(data,country)"
   ]
  },
  {
   "cell_type": "code",
   "execution_count": 7,
   "metadata": {},
   "outputs": [
    {
     "name": "stderr",
     "output_type": "stream",
     "text": [
      "/home/raymond/Research/FEIII-SHIP/topicModeling/compute_lda.py:53: SettingWithCopyWarning: \n",
      "A value is trying to be set on a copy of a slice from a DataFrame.\n",
      "Try using .loc[row_indexer,col_indexer] = value instead\n",
      "\n",
      "See the caveats in the documentation: http://pandas.pydata.org/pandas-docs/stable/indexing.html#indexing-view-versus-copy\n",
      "  data['cl_shipper_party_name'] = data['shipper_party_name'].str.translate(str.maketrans(replace_dict)).values\n"
     ]
    }
   ],
   "source": [
    "data = process_data(data)"
   ]
  },
  {
   "cell_type": "code",
   "execution_count": 8,
   "metadata": {},
   "outputs": [
    {
     "data": {
      "text/plain": [
       "(1315991, 29)"
      ]
     },
     "execution_count": 8,
     "metadata": {},
     "output_type": "execute_result"
    }
   ],
   "source": [
    "data.shape"
   ]
  },
  {
   "cell_type": "code",
   "execution_count": 9,
   "metadata": {
    "scrolled": false
   },
   "outputs": [
    {
     "data": {
      "text/plain": [
       "Index(['identifier', 'port_of_unlading', 'estimated_arrival_date',\n",
       "       'foreign_port_of_lading', 'record_status_indicator', 'place_of_receipt',\n",
       "       'port_of_destination', 'foreign_port_of_destination',\n",
       "       'actual_arrival_date', 'consignee_name', 'consignee_address',\n",
       "       'consignee_contact_name', 'consignee_comm_number_qualifier',\n",
       "       'consignee_comm_number', 'shipper_party_name', 'shipper_address',\n",
       "       'shipper_contact_name', 'shipper_comm_number_qualifier',\n",
       "       'shipper_comm_number', 'description_sequence_number', 'piece_count',\n",
       "       'description_text', 'harmonized_number', 'harmonized_value',\n",
       "       'harmonized_weight', 'harmonized_weight_unit', 'cl_shipper_party_name',\n",
       "       'shipper_id', '6_harmonized_number'],\n",
       "      dtype='object')"
      ]
     },
     "execution_count": 9,
     "metadata": {},
     "output_type": "execute_result"
    }
   ],
   "source": [
    "data.columns"
   ]
  },
  {
   "cell_type": "code",
   "execution_count": 10,
   "metadata": {},
   "outputs": [
    {
     "name": "stdout",
     "output_type": "stream",
     "text": [
      "total rows is 1315991\n",
      "port_of_unlading contains 0 of rows of Germany\n",
      "foreign_port_of_lading contains 362089 of rows of Germany\n",
      "place_of_receipt contains 3276 of rows of Germany\n",
      "port_of_destination contains 0 of rows of Germany\n",
      "foreign_port_of_destination contains 154 of rows of Germany\n",
      "consignee_address contains 47362 of rows of Germany\n",
      "shipper_address contains 131178 of rows of Germany\n",
      "544059 of rows are Germany\n",
      "total rows is 1315991\n",
      "port_of_unlading contains 0 of rows of Belgium\n",
      "foreign_port_of_lading contains 268641 of rows of Belgium\n",
      "place_of_receipt contains 6744 of rows of Belgium\n",
      "port_of_destination contains 0 of rows of Belgium\n",
      "foreign_port_of_destination contains 541 of rows of Belgium\n",
      "consignee_address contains 77530 of rows of Belgium\n",
      "shipper_address contains 16275 of rows of Belgium\n",
      "369731 of rows are Belgium\n",
      "total rows is 1315991\n",
      "port_of_unlading contains 0 of rows of Vietnam\n",
      "foreign_port_of_lading contains 117185 of rows of Vietnam\n",
      "place_of_receipt contains 3090 of rows of Vietnam\n",
      "port_of_destination contains 0 of rows of Vietnam\n",
      "foreign_port_of_destination contains 60 of rows of Vietnam\n",
      "consignee_address contains 5091 of rows of Vietnam\n",
      "shipper_address contains 34947 of rows of Vietnam\n",
      "160373 of rows are Vietnam\n",
      "total rows is 1315991\n",
      "port_of_unlading contains 0 of rows of Spain\n",
      "foreign_port_of_lading contains 154037 of rows of Spain\n",
      "place_of_receipt contains 2786 of rows of Spain\n",
      "port_of_destination contains 0 of rows of Spain\n",
      "foreign_port_of_destination contains 139 of rows of Spain\n",
      "consignee_address contains 29722 of rows of Spain\n",
      "shipper_address contains 53077 of rows of Spain\n",
      "239761 of rows are Spain\n",
      "total rows is 1315991\n",
      "port_of_unlading contains 0 of rows of United Kingdom\n",
      "foreign_port_of_lading contains 88779 of rows of United Kingdom\n",
      "place_of_receipt contains 79 of rows of United Kingdom\n",
      "port_of_destination contains 0 of rows of United Kingdom\n",
      "foreign_port_of_destination contains 91 of rows of United Kingdom\n",
      "consignee_address contains 20486 of rows of United Kingdom\n",
      "shipper_address contains 10471 of rows of United Kingdom\n",
      "119906 of rows are United Kingdom\n",
      "total rows is 1315991\n",
      "port_of_unlading contains 0 of rows of France\n",
      "foreign_port_of_lading contains 43538 of rows of France\n",
      "place_of_receipt contains 1638 of rows of France\n",
      "port_of_destination contains 0 of rows of France\n",
      "foreign_port_of_destination contains 47 of rows of France\n",
      "consignee_address contains 16482 of rows of France\n",
      "shipper_address contains 33159 of rows of France\n",
      "94864 of rows are France\n"
     ]
    }
   ],
   "source": [
    "for country in six_countries:\n",
    "    count_country(data,country)"
   ]
  },
  {
   "cell_type": "markdown",
   "metadata": {},
   "source": [
    "### Shipper Matching"
   ]
  },
  {
   "cell_type": "code",
   "execution_count": 11,
   "metadata": {},
   "outputs": [],
   "source": [
    "shipper_matching = pd.read_csv('../shipper_matching/Enigma_Enigma_6countries.csv')"
   ]
  },
  {
   "cell_type": "code",
   "execution_count": 12,
   "metadata": {},
   "outputs": [
    {
     "data": {
      "text/plain": [
       "(425010, 12)"
      ]
     },
     "execution_count": 12,
     "metadata": {},
     "output_type": "execute_result"
    }
   ],
   "source": [
    "shipper_matching.shape"
   ]
  },
  {
   "cell_type": "code",
   "execution_count": 13,
   "metadata": {},
   "outputs": [
    {
     "data": {
      "text/html": [
       "<div>\n",
       "<style scoped>\n",
       "    .dataframe tbody tr th:only-of-type {\n",
       "        vertical-align: middle;\n",
       "    }\n",
       "\n",
       "    .dataframe tbody tr th {\n",
       "        vertical-align: top;\n",
       "    }\n",
       "\n",
       "    .dataframe thead th {\n",
       "        text-align: right;\n",
       "    }\n",
       "</style>\n",
       "<table border=\"1\" class=\"dataframe\">\n",
       "  <thead>\n",
       "    <tr style=\"text-align: right;\">\n",
       "      <th></th>\n",
       "      <th>name_score</th>\n",
       "      <th>address_score</th>\n",
       "      <th>identifier_left</th>\n",
       "      <th>identifier_right</th>\n",
       "      <th>shipper_party_name_left</th>\n",
       "      <th>shipper_party_name_right</th>\n",
       "      <th>cl_shipper_party_name_left</th>\n",
       "      <th>cl_shipper_party_name_right</th>\n",
       "      <th>shipper_address_left</th>\n",
       "      <th>shipper_address_right</th>\n",
       "      <th>harmonized_number_left</th>\n",
       "      <th>harmonized_number_right</th>\n",
       "    </tr>\n",
       "  </thead>\n",
       "  <tbody>\n",
       "    <tr>\n",
       "      <th>0</th>\n",
       "      <td>0.878049</td>\n",
       "      <td>0.487179</td>\n",
       "      <td>2.018013e+10</td>\n",
       "      <td>2.018050e+12</td>\n",
       "      <td>- AS AGENTS TO SHIPPER -</td>\n",
       "      <td>AS AHENT TO SHIPPER</td>\n",
       "      <td>AS AGENTS TO SHIPPER</td>\n",
       "      <td>AS AHENT TO SHIPPER</td>\n",
       "      <td>AGILITY LOGISTICS GMBH AM WALL 128  28195 BREM...</td>\n",
       "      <td>AGILITY LOGISTICS GMBH SIEMENSSTR. 2 + 4 70825...</td>\n",
       "      <td>NaN</td>\n",
       "      <td>NaN</td>\n",
       "    </tr>\n",
       "    <tr>\n",
       "      <th>1</th>\n",
       "      <td>0.866667</td>\n",
       "      <td>0.969697</td>\n",
       "      <td>2.018010e+12</td>\n",
       "      <td>2.018020e+12</td>\n",
       "      <td>: ATP LOGISTICS AS</td>\n",
       "      <td>ATP LOGISTICS</td>\n",
       "      <td>ATP LOGISTICS AS</td>\n",
       "      <td>ATP LOGISTICS</td>\n",
       "      <td>AGENT OF HECNY SHIPPING LTD ,  48-343601691   ...</td>\n",
       "      <td>AS AGENT OF HECNY SHIPPING LTD   48-343601691 ...</td>\n",
       "      <td>NaN</td>\n",
       "      <td>NaN</td>\n",
       "    </tr>\n",
       "    <tr>\n",
       "      <th>2</th>\n",
       "      <td>0.877193</td>\n",
       "      <td>0.800000</td>\n",
       "      <td>2.018010e+12</td>\n",
       "      <td>2.020000e+12</td>\n",
       "      <td>: ATP LOGISTICS AS AGENT OF HECNY</td>\n",
       "      <td>ATP LOGISTICS AS AGENT OF</td>\n",
       "      <td>ATP LOGISTICS AS AGENT OF HECNY</td>\n",
       "      <td>ATP LOGISTICS AS AGENT OF</td>\n",
       "      <td>.    48-343601691    TEL EX 48-34360 16</td>\n",
       "      <td>HECNY SHIPPING LTD    48-343601691    TEL EX 4...</td>\n",
       "      <td>NaN</td>\n",
       "      <td>NaN</td>\n",
       "    </tr>\n",
       "    <tr>\n",
       "      <th>3</th>\n",
       "      <td>0.925373</td>\n",
       "      <td>0.524138</td>\n",
       "      <td>2.018010e+12</td>\n",
       "      <td>2.018012e+12</td>\n",
       "      <td>: ATP LOGISTICS AS AGENT OF HECNY</td>\n",
       "      <td>ATP LOGISTICS AS AGENT OF HECNY SHI</td>\n",
       "      <td>ATP LOGISTICS AS AGENT OF HECNY</td>\n",
       "      <td>ATP LOGISTICS AS AGENT OF HECNY SHI</td>\n",
       "      <td>.    48-343601691    TEL EX 48-34360 16</td>\n",
       "      <td>UL JURIJA GAGARINA 32A 8 00-754 WARSZAWA POLAN...</td>\n",
       "      <td>NaN</td>\n",
       "      <td>NaN</td>\n",
       "    </tr>\n",
       "    <tr>\n",
       "      <th>4</th>\n",
       "      <td>0.953846</td>\n",
       "      <td>0.524138</td>\n",
       "      <td>2.018010e+12</td>\n",
       "      <td>2.018010e+12</td>\n",
       "      <td>: ATP LOGISTICS AS AGENT OF HECNY</td>\n",
       "      <td>ATP LOGISTICS AS AGENT OF HECNY S</td>\n",
       "      <td>ATP LOGISTICS AS AGENT OF HECNY</td>\n",
       "      <td>ATP LOGISTICS AS AGENT OF HECNY S</td>\n",
       "      <td>.    48-343601691    TEL EX 48-34360 16</td>\n",
       "      <td>UL JURIJA GAGARINA 32A 8 00-754 WARSZAWA POLAN...</td>\n",
       "      <td>NaN</td>\n",
       "      <td>NaN</td>\n",
       "    </tr>\n",
       "  </tbody>\n",
       "</table>\n",
       "</div>"
      ],
      "text/plain": [
       "   name_score  address_score  identifier_left  identifier_right  \\\n",
       "0    0.878049       0.487179     2.018013e+10      2.018050e+12   \n",
       "1    0.866667       0.969697     2.018010e+12      2.018020e+12   \n",
       "2    0.877193       0.800000     2.018010e+12      2.020000e+12   \n",
       "3    0.925373       0.524138     2.018010e+12      2.018012e+12   \n",
       "4    0.953846       0.524138     2.018010e+12      2.018010e+12   \n",
       "\n",
       "             shipper_party_name_left             shipper_party_name_right  \\\n",
       "0           - AS AGENTS TO SHIPPER -                  AS AHENT TO SHIPPER   \n",
       "1                 : ATP LOGISTICS AS                        ATP LOGISTICS   \n",
       "2  : ATP LOGISTICS AS AGENT OF HECNY            ATP LOGISTICS AS AGENT OF   \n",
       "3  : ATP LOGISTICS AS AGENT OF HECNY  ATP LOGISTICS AS AGENT OF HECNY SHI   \n",
       "4  : ATP LOGISTICS AS AGENT OF HECNY    ATP LOGISTICS AS AGENT OF HECNY S   \n",
       "\n",
       "         cl_shipper_party_name_left          cl_shipper_party_name_right  \\\n",
       "0             AS AGENTS TO SHIPPER                   AS AHENT TO SHIPPER   \n",
       "1                  ATP LOGISTICS AS                        ATP LOGISTICS   \n",
       "2   ATP LOGISTICS AS AGENT OF HECNY            ATP LOGISTICS AS AGENT OF   \n",
       "3   ATP LOGISTICS AS AGENT OF HECNY  ATP LOGISTICS AS AGENT OF HECNY SHI   \n",
       "4   ATP LOGISTICS AS AGENT OF HECNY    ATP LOGISTICS AS AGENT OF HECNY S   \n",
       "\n",
       "                                shipper_address_left  \\\n",
       "0  AGILITY LOGISTICS GMBH AM WALL 128  28195 BREM...   \n",
       "1  AGENT OF HECNY SHIPPING LTD ,  48-343601691   ...   \n",
       "2            .    48-343601691    TEL EX 48-34360 16   \n",
       "3            .    48-343601691    TEL EX 48-34360 16   \n",
       "4            .    48-343601691    TEL EX 48-34360 16   \n",
       "\n",
       "                               shipper_address_right  harmonized_number_left  \\\n",
       "0  AGILITY LOGISTICS GMBH SIEMENSSTR. 2 + 4 70825...                     NaN   \n",
       "1  AS AGENT OF HECNY SHIPPING LTD   48-343601691 ...                     NaN   \n",
       "2  HECNY SHIPPING LTD    48-343601691    TEL EX 4...                     NaN   \n",
       "3  UL JURIJA GAGARINA 32A 8 00-754 WARSZAWA POLAN...                     NaN   \n",
       "4  UL JURIJA GAGARINA 32A 8 00-754 WARSZAWA POLAN...                     NaN   \n",
       "\n",
       "   harmonized_number_right  \n",
       "0                      NaN  \n",
       "1                      NaN  \n",
       "2                      NaN  \n",
       "3                      NaN  \n",
       "4                      NaN  "
      ]
     },
     "execution_count": 13,
     "metadata": {},
     "output_type": "execute_result"
    }
   ],
   "source": [
    "shipper_matching.head()"
   ]
  },
  {
   "cell_type": "code",
   "execution_count": 14,
   "metadata": {},
   "outputs": [
    {
     "data": {
      "text/plain": [
       "(33916, 12)"
      ]
     },
     "execution_count": 14,
     "metadata": {},
     "output_type": "execute_result"
    }
   ],
   "source": [
    "shipper_matching[(shipper_matching['name_score']>0.9) & (shipper_matching['address_score']>0.6)].shape"
   ]
  },
  {
   "cell_type": "code",
   "execution_count": null,
   "metadata": {},
   "outputs": [],
   "source": []
  }
 ],
 "metadata": {
  "kernelspec": {
   "display_name": "Python 3",
   "language": "python",
   "name": "python3"
  },
  "language_info": {
   "codemirror_mode": {
    "name": "ipython",
    "version": 3
   },
   "file_extension": ".py",
   "mimetype": "text/x-python",
   "name": "python",
   "nbconvert_exporter": "python",
   "pygments_lexer": "ipython3",
   "version": "3.7.3"
  }
 },
 "nbformat": 4,
 "nbformat_minor": 2
}
