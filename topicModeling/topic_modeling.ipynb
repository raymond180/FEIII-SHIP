{
 "cells": [
  {
   "cell_type": "code",
   "execution_count": 1,
   "metadata": {},
   "outputs": [
    {
     "name": "stderr",
     "output_type": "stream",
     "text": [
      "/home/raymond/anaconda3/envs/topicModeling/lib/python3.7/site-packages/smart_open/ssh.py:34: UserWarning: paramiko missing, opening SSH/SCP/SFTP paths will be disabled.  `pip install paramiko` to suppress\n",
      "  warnings.warn('paramiko missing, opening SSH/SCP/SFTP paths will be disabled.  `pip install paramiko` to suppress')\n"
     ]
    }
   ],
   "source": [
    "from compute_lda import *"
   ]
  },
  {
   "cell_type": "markdown",
   "metadata": {},
   "source": [
    "### Some functions"
   ]
  },
  {
   "cell_type": "code",
   "execution_count": 2,
   "metadata": {},
   "outputs": [],
   "source": [
    "def count_country(df,name):\n",
    "    cols = ['port_of_unlading','foreign_port_of_lading','place_of_receipt'\n",
    "            ,'port_of_destination','foreign_port_of_destination'\n",
    "           ,'consignee_address','shipper_address']\n",
    "    print('total rows is {}'.format(data.shape[0]))\n",
    "    for i,col in enumerate(cols):\n",
    "        temp_col = data[col].str.contains(name,case=False,regex=False)\n",
    "        print('{} contains {} of rows of {}'.format(col,temp_col.sum(),name))\n",
    "        if i==0:\n",
    "            sum_col = temp_col.copy()\n",
    "        else:\n",
    "            sum_col = sum_col.add(temp_col,fill_value=0)\n",
    "    print('{} of rows are {}'.format(sum_col[sum_col>0].sum(),name))"
   ]
  },
  {
   "cell_type": "code",
   "execution_count": 3,
   "metadata": {},
   "outputs": [],
   "source": [
    "six_countries = ['Germany','Belgium', 'Vietnam' ,'Spain', 'United Kingdom','France']"
   ]
  },
  {
   "cell_type": "markdown",
   "metadata": {},
   "source": [
    "### Data Processing"
   ]
  },
  {
   "cell_type": "code",
   "execution_count": 4,
   "metadata": {},
   "outputs": [],
   "source": [
    "data = read_data()"
   ]
  },
  {
   "cell_type": "code",
   "execution_count": 5,
   "metadata": {},
   "outputs": [
    {
     "data": {
      "text/plain": [
       "(3825317, 26)"
      ]
     },
     "execution_count": 5,
     "metadata": {},
     "output_type": "execute_result"
    }
   ],
   "source": [
    "data.shape"
   ]
  },
  {
   "cell_type": "raw",
   "metadata": {},
   "source": [
    "for country in six_countries:\n",
    "    count_country(data,country)"
   ]
  },
  {
   "cell_type": "code",
   "execution_count": 6,
   "metadata": {},
   "outputs": [],
   "source": [
    "def simple_process_data(data):\n",
    "    # Basic data cleaning\n",
    "    data = data.dropna(subset=['shipper_party_name','harmonized_number'])\n",
    "    replace_char = \",.+=_-><\\'\\\":;()!?~/\\\\@#$%^&*~`[]{}\"\n",
    "    replace_dict = {key:value for (key,value) in zip(replace_char,itertools.repeat(''))}\n",
    "    data['cl_shipper_party_name'] = data['shipper_party_name'].str.translate(str.maketrans(replace_dict)).copy()\n",
    "    data = data.assign(shipper_id=(data['cl_shipper_party_name']).astype('category').cat.codes)\n",
    "    data['6_harmonized_number'] = data['harmonized_number'].apply(lambda x: str(x)[0:6])\n",
    "    return data"
   ]
  },
  {
   "cell_type": "code",
   "execution_count": 7,
   "metadata": {},
   "outputs": [
    {
     "name": "stderr",
     "output_type": "stream",
     "text": [
      "/home/raymond/anaconda3/envs/topicModeling/lib/python3.7/site-packages/ipykernel_launcher.py:6: SettingWithCopyWarning: \n",
      "A value is trying to be set on a copy of a slice from a DataFrame.\n",
      "Try using .loc[row_indexer,col_indexer] = value instead\n",
      "\n",
      "See the caveats in the documentation: http://pandas.pydata.org/pandas-docs/stable/indexing.html#indexing-view-versus-copy\n",
      "  \n"
     ]
    }
   ],
   "source": [
    "data = simple_process_data(data)"
   ]
  },
  {
   "cell_type": "code",
   "execution_count": 8,
   "metadata": {},
   "outputs": [
    {
     "data": {
      "text/plain": [
       "(1315991, 29)"
      ]
     },
     "execution_count": 8,
     "metadata": {},
     "output_type": "execute_result"
    }
   ],
   "source": [
    "data.shape"
   ]
  },
  {
   "cell_type": "code",
   "execution_count": 9,
   "metadata": {
    "scrolled": false
   },
   "outputs": [
    {
     "data": {
      "text/plain": [
       "Index(['identifier', 'port_of_unlading', 'estimated_arrival_date',\n",
       "       'foreign_port_of_lading', 'record_status_indicator', 'place_of_receipt',\n",
       "       'port_of_destination', 'foreign_port_of_destination',\n",
       "       'actual_arrival_date', 'consignee_name', 'consignee_address',\n",
       "       'consignee_contact_name', 'consignee_comm_number_qualifier',\n",
       "       'consignee_comm_number', 'shipper_party_name', 'shipper_address',\n",
       "       'shipper_contact_name', 'shipper_comm_number_qualifier',\n",
       "       'shipper_comm_number', 'description_sequence_number', 'piece_count',\n",
       "       'description_text', 'harmonized_number', 'harmonized_value',\n",
       "       'harmonized_weight', 'harmonized_weight_unit', 'cl_shipper_party_name',\n",
       "       'shipper_id', '6_harmonized_number'],\n",
       "      dtype='object')"
      ]
     },
     "execution_count": 9,
     "metadata": {},
     "output_type": "execute_result"
    }
   ],
   "source": [
    "data.columns"
   ]
  },
  {
   "cell_type": "raw",
   "metadata": {},
   "source": [
    "for country in six_countries:\n",
    "    count_country(data,country)"
   ]
  },
  {
   "cell_type": "markdown",
   "metadata": {},
   "source": [
    "### Bag of Words"
   ]
  },
  {
   "cell_type": "code",
   "execution_count": 11,
   "metadata": {},
   "outputs": [],
   "source": [
    "bag_of_words = data.groupby(by=['6_harmonized_number','shipper_party_name']).size().unstack(fill_value=0)"
   ]
  },
  {
   "cell_type": "code",
   "execution_count": 14,
   "metadata": {},
   "outputs": [
    {
     "data": {
      "text/plain": [
       "count    39638.000000\n",
       "mean        33.200237\n",
       "std        292.931290\n",
       "min          1.000000\n",
       "25%          1.000000\n",
       "50%          4.000000\n",
       "75%         12.000000\n",
       "max      26376.000000\n",
       "dtype: float64"
      ]
     },
     "execution_count": 14,
     "metadata": {},
     "output_type": "execute_result"
    }
   ],
   "source": [
    "bag_of_words.sum().describe()"
   ]
  },
  {
   "cell_type": "code",
   "execution_count": 15,
   "metadata": {},
   "outputs": [
    {
     "data": {
      "text/plain": [
       "shipper_party_name\n",
       "GOTEX SA                                   1\n",
       "SOL & LUNA-CRIAMENDI ESPANA SL             1\n",
       "SOL & LUNA CRIAMENDI ESPA A SL             1\n",
       "PRIME CARGO POLAND                         1\n",
       "COPREX,S.L.                                1\n",
       "COPRIMA SL                                 1\n",
       "COPRIMA, S.L.                              1\n",
       "GEODIS CALBERSON BOSPHORUS                 1\n",
       "GEODIS BERNIS LIMOGES                      1\n",
       "SOL Y LUNA CRIAMENDI ESPANA SL             1\n",
       "CORDEE PUBLICATIONS                        1\n",
       "SOKOA                                      1\n",
       "KORMANN ROCKSTER RECYCLER GMBH             1\n",
       "GEODIS BERNIS - LIMOGES                    1\n",
       "SOILMEC AUSTRALIA P L                      1\n",
       "SOIL MACHINE DYNAMICS (SMD)                1\n",
       "COREY BRADFORD SLATE                       1\n",
       "SOGU APLICACIONES SL                       1\n",
       "SOGEVINUS FINE WINES SA                    1\n",
       "CORDENET PRODUTORA DE REDES AGRIC          1\n",
       "NANOBITS LIMITED                           1\n",
       "MR EVEN NATHANIEL WALSER,                  1\n",
       "MR ERIC-JAN MARTIN BRONWASSER,             1\n",
       "PRIMAX ELECTRONICS LTD                     1\n",
       "GEODIS FF BELGIUM NV AS AGENT FOR          1\n",
       "MR ERIC MICHAEL DUBE                       1\n",
       "NAOGA FOODS  MARKETING S.L.                1\n",
       "COORSTEK ADVANCED MATERIALS                1\n",
       "SOLAR TURBINES                             1\n",
       "COPACOL - COOPERATIVA                      1\n",
       "                                       ...  \n",
       "EGETRANS INTERNATIONALE SPEDITION G     4060\n",
       "VOLKSWAGEN AG                           4080\n",
       "KUEHNE + NAGEL (AG & CO.) KG            4092\n",
       "APL LOGISTICS VIETNAM COMPANY LTD.,     4125\n",
       "JF HILLEBRAND FRANCE (BEAUNE)           4140\n",
       "COMPANIA HONDURENA DEL CAFE S.A. DE     4238\n",
       "E G E T R A N S INTERNATIONALE SPED     4287\n",
       "FESTOOL GMBH                            4409\n",
       "C.I. BANACOL S.A.                       4636\n",
       "YUSEN LOGISTICS (VIETNAM) CO., LTD.     4639\n",
       "HAPAG-LLOYD MEXICO S.A. DE C.V.         4647\n",
       "RHI FEUERFEST GMBH                      4657\n",
       "SOSTMEIER GMBH & CO. KG                 4827\n",
       "PANALPINA WORLD TRANSPORT(VIETNAM)      4912\n",
       "MSC MEXICO (VERACRUZ)                   5285\n",
       "BAYERISCHE MOTOREN WERKE AG             5362\n",
       "TRANSWORLD SHIPPING GMBH                5959\n",
       "VANGUARD LOGISTICS SERVICES             7419\n",
       "BMW AG                                  7532\n",
       "EXPEDITORS INTERNATIONAL GMBH           7910\n",
       "DAMCO VIETNAM COMPANY LIMITED           8319\n",
       "DHL GLOBAL FORWARDING GMBH              9023\n",
       "DAIMLER AG                              9102\n",
       "SCHENKER DEUTSCHLAND AG                10899\n",
       "YUSEN LOGISTICS (DEUTSCHLAND) GMBH     11134\n",
       "SACO SHIPPING GMBH                     14956\n",
       "LOUIS DREYFUS COMMODITIES HONDURAS,    15383\n",
       "STAMCORP INTERNATIONAL PTE LTD         17277\n",
       "EXTRADE II S. DE R.L. DE C.V.          17428\n",
       "OLAM HONDURAS, S.A. DE C.V.            26376\n",
       "Length: 39638, dtype: int64"
      ]
     },
     "execution_count": 15,
     "metadata": {},
     "output_type": "execute_result"
    }
   ],
   "source": [
    "bag_of_words.sum().sort_values()"
   ]
  },
  {
   "cell_type": "code",
   "execution_count": null,
   "metadata": {},
   "outputs": [],
   "source": []
  }
 ],
 "metadata": {
  "kernelspec": {
   "display_name": "Python 3",
   "language": "python",
   "name": "python3"
  },
  "language_info": {
   "codemirror_mode": {
    "name": "ipython",
    "version": 3
   },
   "file_extension": ".py",
   "mimetype": "text/x-python",
   "name": "python",
   "nbconvert_exporter": "python",
   "pygments_lexer": "ipython3",
   "version": "3.7.3"
  }
 },
 "nbformat": 4,
 "nbformat_minor": 2
}
