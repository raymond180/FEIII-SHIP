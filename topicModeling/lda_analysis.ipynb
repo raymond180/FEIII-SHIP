{
 "cells": [
  {
   "cell_type": "code",
   "execution_count": null,
   "metadata": {},
   "outputs": [],
   "source": [
    "from compute_lda import *\n",
    "from lda_analysis import *"
   ]
  },
  {
   "cell_type": "code",
   "execution_count": null,
   "metadata": {},
   "outputs": [],
   "source": [
    "model_name = 'harmonized_shipper_sym'\n",
    "num_topics = 10\n",
    "# Fro visualization\n",
    "corpus = load_corpus(model_name)\n",
    "id2word = load_id2word(model_name)\n",
    "dictionary = Dictionary.from_corpus(corpus,id2word=id2word)\n",
    "# Load LDAModel\n",
    "model = load_model(model_name,num_topics)\n",
    "\n",
    "data = load_data()\n",
    "    \n",
    "if model_name == 'harmonized_shipper_sym':\n",
    "    bag_of_words = create_BoW_harmonized_shipper(data)\n",
    "elif model_name == 'harmonized_shipper_asym':\n",
    "    bag_of_words = create_BoW_harmonized_shipper(data)\n",
    "elif model_name == 'shipper_harmonized_sym':\n",
    "    bag_of_words = create_BoW_shipper_harmonized(data)\n",
    "elif model_name == 'shipper_harmonized_asym':\n",
    "    bag_of_words = create_BoW_shipper_harmonized(data)"
   ]
  },
  {
   "cell_type": "code",
   "execution_count": null,
   "metadata": {},
   "outputs": [],
   "source": [
    "document_topic_distribution = document_topic_distribution(corpus,bag_of_words,model,model_name,num_topics,minimum_probability=0.10)"
   ]
  },
  {
   "cell_type": "code",
   "execution_count": null,
   "metadata": {},
   "outputs": [],
   "source": []
  }
 ],
 "metadata": {
  "kernelspec": {
   "display_name": "Python 3",
   "language": "python",
   "name": "python3"
  },
  "language_info": {
   "codemirror_mode": {
    "name": "ipython",
    "version": 3
   },
   "file_extension": ".py",
   "mimetype": "text/x-python",
   "name": "python",
   "nbconvert_exporter": "python",
   "pygments_lexer": "ipython3",
   "version": "3.7.3"
  }
 },
 "nbformat": 4,
 "nbformat_minor": 2
}
